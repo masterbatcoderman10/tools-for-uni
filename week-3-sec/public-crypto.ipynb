{
 "cells": [
  {
   "cell_type": "markdown",
   "metadata": {},
   "source": [
    "### This file contains programs for the calculations involving DH, RSA, and elgamal"
   ]
  },
  {
   "cell_type": "code",
   "execution_count": 9,
   "metadata": {},
   "outputs": [],
   "source": [
    "import math\n",
    "import numpy as np\n",
    "import random"
   ]
  },
  {
   "cell_type": "code",
   "execution_count": 10,
   "metadata": {},
   "outputs": [],
   "source": [
    "#This function is a naive method for calculating the inverse m^-1 mod n\n",
    "def inverse_mod_calculator(m, n):\n",
    "\n",
    "    if math.gcd(m,n) != 1:\n",
    "        return \"No inverse exists\"\n",
    "    \n",
    "    for i in range(0, n):\n",
    "\n",
    "        if i*m % n == 1:\n",
    "            return i\n",
    "\n",
    "\n",
    "\n"
   ]
  },
  {
   "cell_type": "code",
   "execution_count": 11,
   "metadata": {},
   "outputs": [
    {
     "data": {
      "text/plain": [
       "7"
      ]
     },
     "execution_count": 11,
     "metadata": {},
     "output_type": "execute_result"
    }
   ],
   "source": [
    "inverse_mod_calculator(3, 20)"
   ]
  },
  {
   "cell_type": "code",
   "execution_count": 12,
   "metadata": {},
   "outputs": [],
   "source": [
    "#This function can be used for efficient modulo exponentiation for B's which are the power of two.\n",
    "#A^B mod C, if B is a power of 2.\n",
    "def modulo_exponentiation_2s(a, b, c):\n",
    "\n",
    "    if b == 1:\n",
    "        return a % c\n",
    "    else: \n",
    "        return modulo_exponentiation_2s(a, b/2, c) * modulo_exponentiation_2s(a, b/2, c) % c"
   ]
  },
  {
   "cell_type": "code",
   "execution_count": 13,
   "metadata": {},
   "outputs": [
    {
     "data": {
      "text/plain": [
       "9"
      ]
     },
     "execution_count": 13,
     "metadata": {},
     "output_type": "execute_result"
    }
   ],
   "source": [
    "modulo_exponentiation_2s(7, 256, 13)"
   ]
  },
  {
   "cell_type": "code",
   "execution_count": 14,
   "metadata": {},
   "outputs": [],
   "source": [
    "#Helper function to convert a number in decimal to a bit string, returns the reverse.\n",
    "def int_to_binary(b):\n",
    "    if b == 1:\n",
    "        return \"1\"\n",
    "    else:\n",
    "        f = (str(b % 2) + int_to_binary(b //2))\n",
    "        return f"
   ]
  },
  {
   "cell_type": "code",
   "execution_count": 15,
   "metadata": {},
   "outputs": [],
   "source": [
    "#Function which iterates through a bit string and identifies the powers of 2\n",
    "def bit_string_iterator(s):\n",
    "\n",
    "    powers = []\n",
    "    n=0\n",
    "    for bit in s:\n",
    "        if bit == \"1\":\n",
    "            powers.append(2**n)\n",
    "        n+= 1\n",
    "\n",
    "    return powers"
   ]
  },
  {
   "cell_type": "code",
   "execution_count": 16,
   "metadata": {},
   "outputs": [],
   "source": [
    "#This function can be used to find A^B mod C for a huge range of values for b.\n",
    "#Use this to calculate tA = g^ra mod p, and tB\n",
    "def modulo_exponentiation_full(a, b, c):\n",
    "    \n",
    "    \n",
    "    bit_string = int_to_binary(b)\n",
    "\n",
    "    powers = bit_string_iterator(bit_string)\n",
    "    product = 1\n",
    " \n",
    "    for p in powers:\n",
    "\n",
    "        ts = modulo_exponentiation_2s(a, p, c)\n",
    "        \n",
    "        product *= ts\n",
    "\n",
    "    \n",
    "    return product % c\n",
    "    "
   ]
  },
  {
   "cell_type": "code",
   "execution_count": 17,
   "metadata": {},
   "outputs": [
    {
     "data": {
      "text/plain": [
       "4"
      ]
     },
     "execution_count": 17,
     "metadata": {},
     "output_type": "execute_result"
    }
   ],
   "source": [
    "modulo_exponentiation_full(9,27,55)"
   ]
  },
  {
   "cell_type": "code",
   "execution_count": 21,
   "metadata": {},
   "outputs": [
    {
     "name": "stdout",
     "output_type": "stream",
     "text": [
      "g is : 276\n",
      "p is : 733\n",
      "ta : 111\n",
      "tb : 132\n",
      "K : 618\n",
      "tBmodP : 618\n",
      "tAmodP : 618\n"
     ]
    }
   ],
   "source": [
    "def dh_algo(g, p):\n",
    "    #g = random.randint(100, 999)\n",
    "    print(f\"g is : {g}\") \n",
    "    #p = 733\n",
    "    print(f\"p is : {p}\")\n",
    "\n",
    "    ra = random.randint(0, 1000)\n",
    "    rb = random.randint(0, 1000)\n",
    "\n",
    "    ta = modulo_exponentiation_full(g, ra, p)\n",
    "    print(f\"ta : {ta}\")\n",
    "    tb = modulo_exponentiation_full(g, rb, p)\n",
    "    print(f\"tb : {tb}\")\n",
    "\n",
    "    K = modulo_exponentiation_full(g, (ra * rb), p)\n",
    "    print(f\"K : {K}\")\n",
    "    tBmodP = modulo_exponentiation_full(tb, ra, p)\n",
    "    print(f\"tBmodP : {tBmodP}\")\n",
    "    tAmodP = modulo_exponentiation_full(ta, rb, p)\n",
    "    print(f\"tAmodP : {tAmodP}\")\n",
    "\n",
    "\n",
    "\n"
   ]
  },
  {
   "cell_type": "code",
   "execution_count": 33,
   "metadata": {},
   "outputs": [],
   "source": [
    "def gen_e(N,  pminus1, qminus1, end_range=1000):\n",
    "\n",
    "    phi = pminus1 * qminus1\n",
    "    done = False\n",
    "    e = 3\n",
    "    while not done:\n",
    "        if math.gcd(e, phi):\n",
    "            done = True\n",
    "        else:\n",
    "            e += 1\n",
    "            \n",
    "    return e\n",
    "\n"
   ]
  },
  {
   "cell_type": "code",
   "execution_count": 35,
   "metadata": {},
   "outputs": [
    {
     "name": "stdout",
     "output_type": "stream",
     "text": [
      "p : 11\n",
      "q : 3\n",
      "N : 33\n",
      "<3, 33> is the public key\n",
      "This is the private key.\n",
      "d : 7\n",
      "Plain text is : 4\n",
      "Encrypted message is 31\n",
      "The decrypted message is 4\n"
     ]
    }
   ],
   "source": [
    "def rsa(p, q, m):\n",
    "\n",
    "    print(f\"p : {p}\")\n",
    "\n",
    "    print(f\"q : {q}\")\n",
    "    N = p * q\n",
    "    print(f\"N : {N}\")\n",
    "    e = gen_e(N, p-1, q-1)\n",
    "    print(f\"<{e}, {N}> is the public key\")\n",
    "\n",
    "    phi = (p-1) * (q-1)\n",
    "\n",
    "    print(\"This is the private key.\")\n",
    "    d = inverse_mod_calculator(e, phi)\n",
    "    print(F\"d : {d}\")\n",
    "\n",
    "    print(f\"Plain text is : {m}\")\n",
    "    c = modulo_exponentiation_full(m, e, N)\n",
    "    print(f\"Encrypted message is {c}\")\n",
    "\n",
    "    m = modulo_exponentiation_full(c, d, N)    \n",
    "    print(f\"The decrypted message is {m}\")\n",
    "\n",
    "\n",
    "rsa(11, 3, 4)"
   ]
  },
  {
   "cell_type": "code",
   "execution_count": null,
   "metadata": {},
   "outputs": [],
   "source": []
  }
 ],
 "metadata": {
  "interpreter": {
   "hash": "bc75da91c564413737c36d142f9ba7109c554d7e02e6688105e2cd200d273f73"
  },
  "kernelspec": {
   "display_name": "Python 3.8.5 ('base')",
   "language": "python",
   "name": "python3"
  },
  "language_info": {
   "codemirror_mode": {
    "name": "ipython",
    "version": 3
   },
   "file_extension": ".py",
   "mimetype": "text/x-python",
   "name": "python",
   "nbconvert_exporter": "python",
   "pygments_lexer": "ipython3",
   "version": "3.8.5"
  },
  "orig_nbformat": 4
 },
 "nbformat": 4,
 "nbformat_minor": 2
}

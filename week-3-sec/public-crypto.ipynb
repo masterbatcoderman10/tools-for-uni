{
 "cells": [
  {
   "cell_type": "markdown",
   "metadata": {},
   "source": [
    "### This file contains programs for the calculations involving DH, RSA, and elgamal"
   ]
  },
  {
   "cell_type": "code",
   "execution_count": 85,
   "metadata": {},
   "outputs": [],
   "source": [
    "import math\n",
    "import numpy as np"
   ]
  },
  {
   "cell_type": "code",
   "execution_count": 86,
   "metadata": {},
   "outputs": [],
   "source": [
    "#This function is a naive method for calculating the inverse m^-1 mod n\n",
    "def inverse_mod_calculator(m, n):\n",
    "\n",
    "    if math.gcd(m,n) != 1:\n",
    "        return \"No inverse exists\"\n",
    "    \n",
    "    for i in range(0, n):\n",
    "\n",
    "        if i*m % n == 1:\n",
    "            return i\n",
    "\n",
    "\n",
    "\n"
   ]
  },
  {
   "cell_type": "code",
   "execution_count": 87,
   "metadata": {},
   "outputs": [
    {
     "data": {
      "text/plain": [
       "27"
      ]
     },
     "execution_count": 87,
     "metadata": {},
     "output_type": "execute_result"
    }
   ],
   "source": [
    "inverse_mod_calculator(3, 40)"
   ]
  },
  {
   "cell_type": "code",
   "execution_count": 88,
   "metadata": {},
   "outputs": [],
   "source": [
    "#This function can be used for efficient modulo exponentiation for B's which are the power of two.\n",
    "#A^B mod C, if B is a power of 2.\n",
    "def modulo_exponentiation_2s(a, b, c):\n",
    "\n",
    "    if b == 1:\n",
    "        return a % c\n",
    "    else: \n",
    "        return modulo_exponentiation_2s(a, b/2, c) * modulo_exponentiation_2s(a, b/2, c) % c"
   ]
  },
  {
   "cell_type": "code",
   "execution_count": 89,
   "metadata": {},
   "outputs": [
    {
     "data": {
      "text/plain": [
       "9"
      ]
     },
     "execution_count": 89,
     "metadata": {},
     "output_type": "execute_result"
    }
   ],
   "source": [
    "modulo_exponentiation_2s(7, 256, 13)"
   ]
  },
  {
   "cell_type": "code",
   "execution_count": 83,
   "metadata": {},
   "outputs": [],
   "source": [
    "#Helper function to convert a number in decimal to a bit string, returns the reverse.\n",
    "def int_to_binary(b):\n",
    "    if b == 1:\n",
    "        return \"1\"\n",
    "    else:\n",
    "        f = (str(b % 2) + int_to_binary(b //2))\n",
    "        return f"
   ]
  },
  {
   "cell_type": "code",
   "execution_count": 101,
   "metadata": {},
   "outputs": [],
   "source": [
    "#Function which iterates through a bit string and identifies the powers of 2\n",
    "def bit_string_iterator(s):\n",
    "\n",
    "    powers = []\n",
    "    n=0\n",
    "    for bit in s:\n",
    "        if bit == \"1\":\n",
    "            powers.append(2**n)\n",
    "        n+= 1\n",
    "\n",
    "    return powers"
   ]
  },
  {
   "cell_type": "code",
   "execution_count": 144,
   "metadata": {},
   "outputs": [],
   "source": [
    "#This function can be used to find A^B mod C for a huge range of values for b.\n",
    "def modulo_exponentiation_full(a, b, c):\n",
    "    \n",
    "    \n",
    "    bit_string = int_to_binary(b)\n",
    "\n",
    "    powers = bit_string_iterator(bit_string)\n",
    "    product = 1\n",
    " \n",
    "    for p in powers:\n",
    "\n",
    "        ts = modulo_exponentiation_2s(a, p, c)\n",
    "        \n",
    "        product *= ts\n",
    "\n",
    "    \n",
    "    return product % c\n",
    "    "
   ]
  },
  {
   "cell_type": "code",
   "execution_count": 146,
   "metadata": {},
   "outputs": [
    {
     "data": {
      "text/plain": [
       "4"
      ]
     },
     "execution_count": 146,
     "metadata": {},
     "output_type": "execute_result"
    }
   ],
   "source": [
    "modulo_exponentiation_full(9,27,55)"
   ]
  },
  {
   "cell_type": "code",
   "execution_count": null,
   "metadata": {},
   "outputs": [],
   "source": []
  }
 ],
 "metadata": {
  "interpreter": {
   "hash": "bc75da91c564413737c36d142f9ba7109c554d7e02e6688105e2cd200d273f73"
  },
  "kernelspec": {
   "display_name": "Python 3.8.5 ('base')",
   "language": "python",
   "name": "python3"
  },
  "language_info": {
   "codemirror_mode": {
    "name": "ipython",
    "version": 3
   },
   "file_extension": ".py",
   "mimetype": "text/x-python",
   "name": "python",
   "nbconvert_exporter": "python",
   "pygments_lexer": "ipython3",
   "version": "3.8.5"
  },
  "orig_nbformat": 4
 },
 "nbformat": 4,
 "nbformat_minor": 2
}

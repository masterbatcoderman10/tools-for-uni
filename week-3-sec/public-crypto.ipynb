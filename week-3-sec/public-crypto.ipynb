{
 "cells": [
  {
   "cell_type": "markdown",
   "metadata": {},
   "source": [
    "### This file contains programs for the calculations involving DH, RSA, and elgamal"
   ]
  },
  {
   "cell_type": "code",
   "execution_count": null,
   "metadata": {},
   "outputs": [],
   "source": [
    "import math\n",
    "import numpy as np\n",
    "import random"
   ]
  },
  {
   "cell_type": "code",
   "execution_count": null,
   "metadata": {},
   "outputs": [],
   "source": [
    "#This function is a naive method for calculating the inverse m^-1 mod n\n",
    "def inverse_mod_calculator(m, n):\n",
    "\n",
    "    if math.gcd(m,n) != 1:\n",
    "        return \"No inverse exists\"\n",
    "    \n",
    "    for i in range(0, n):\n",
    "\n",
    "        if i*m % n == 1:\n",
    "            return i\n",
    "\n",
    "\n",
    "\n"
   ]
  },
  {
   "cell_type": "code",
   "execution_count": null,
   "metadata": {},
   "outputs": [],
   "source": [
    "inverse_mod_calculator(3, 20)"
   ]
  },
  {
   "cell_type": "code",
   "execution_count": null,
   "metadata": {},
   "outputs": [],
   "source": [
    "#This function can be used for efficient modulo exponentiation for B's which are the power of two.\n",
    "#A^B mod C, if B is a power of 2.\n",
    "def modulo_exponentiation_2s(a, b, c):\n",
    "\n",
    "    if b == 1:\n",
    "        return a % c\n",
    "    else: \n",
    "        return modulo_exponentiation_2s(a, b/2, c) * modulo_exponentiation_2s(a, b/2, c) % c"
   ]
  },
  {
   "cell_type": "code",
   "execution_count": null,
   "metadata": {},
   "outputs": [],
   "source": [
    "modulo_exponentiation_2s(7, 256, 13)"
   ]
  },
  {
   "cell_type": "code",
   "execution_count": null,
   "metadata": {},
   "outputs": [],
   "source": [
    "#Helper function to convert a number in decimal to a bit string, returns the reverse.\n",
    "def int_to_binary(b):\n",
    "    if b == 1:\n",
    "        return \"1\"\n",
    "    else:\n",
    "        f = (str(b % 2) + int_to_binary(b //2))\n",
    "        return f"
   ]
  },
  {
   "cell_type": "code",
   "execution_count": null,
   "metadata": {},
   "outputs": [],
   "source": [
    "#Function which iterates through a bit string and identifies the powers of 2\n",
    "def bit_string_iterator(s):\n",
    "\n",
    "    powers = []\n",
    "    n=0\n",
    "    for bit in s:\n",
    "        if bit == \"1\":\n",
    "            powers.append(2**n)\n",
    "        n+= 1\n",
    "\n",
    "    return powers"
   ]
  },
  {
   "cell_type": "code",
   "execution_count": null,
   "metadata": {},
   "outputs": [],
   "source": [
    "#This function can be used to find A^B mod C for a huge range of values for b.\n",
    "#Use this to calculate tA = g^ra mod p, and tB\n",
    "def modulo_exponentiation_full(a, b, c):\n",
    "    \n",
    "    \n",
    "    bit_string = int_to_binary(b)\n",
    "\n",
    "    powers = bit_string_iterator(bit_string)\n",
    "    product = 1\n",
    " \n",
    "    for p in powers:\n",
    "\n",
    "        ts = modulo_exponentiation_2s(a, p, c)\n",
    "        \n",
    "        product *= ts\n",
    "\n",
    "    \n",
    "    return product % c\n",
    "    "
   ]
  },
  {
   "cell_type": "code",
   "execution_count": null,
   "metadata": {},
   "outputs": [],
   "source": [
    "modulo_exponentiation_full(9,27,55)"
   ]
  },
  {
   "cell_type": "code",
   "execution_count": null,
   "metadata": {},
   "outputs": [],
   "source": [
    "def dh_algo(g, p):\n",
    "    #g = random.randint(100, 999)\n",
    "    print(f\"g is : {g}\") \n",
    "    #p = 733\n",
    "    print(f\"p is : {p}\")\n",
    "\n",
    "    ra = random.randint(0, 1000)\n",
    "    rb = random.randint(0, 1000)\n",
    "\n",
    "    ta = modulo_exponentiation_full(g, ra, p)\n",
    "    print(f\"ta : {ta}\")\n",
    "    tb = modulo_exponentiation_full(g, rb, p)\n",
    "    print(f\"tb : {tb}\")\n",
    "\n",
    "    K = modulo_exponentiation_full(g, (ra * rb), p)\n",
    "    print(f\"K : {K}\")\n",
    "    tBmodP = modulo_exponentiation_full(tb, ra, p)\n",
    "    print(f\"tBmodP : {tBmodP}\")\n",
    "    tAmodP = modulo_exponentiation_full(ta, rb, p)\n",
    "    print(f\"tAmodP : {tAmodP}\")\n",
    "\n",
    "\n",
    "\n"
   ]
  },
  {
   "cell_type": "code",
   "execution_count": 133,
   "metadata": {},
   "outputs": [],
   "source": [
    "def gen_e(N,  pminus1, qminus1, end_range=1000):\n",
    "\n",
    "    phi = pminus1 * qminus1\n",
    "    done = False\n",
    "    e = 3\n",
    "    while not done:\n",
    "        if math.gcd(e, phi) == 1:\n",
    "            done = True\n",
    "        else:\n",
    "            e += 1\n",
    "            \n",
    "    return e\n",
    "\n"
   ]
  },
  {
   "cell_type": "code",
   "execution_count": 140,
   "metadata": {},
   "outputs": [
    {
     "name": "stdout",
     "output_type": "stream",
     "text": [
      "p : 5\n",
      "q : 7\n",
      "N : 35\n",
      "<5, 35> is the public key\n",
      "This is the private key.\n",
      "d : 5\n",
      "The decrypted message is 4\n"
     ]
    }
   ],
   "source": [
    "def rsa(p, q, m=0, c=0, mode2=False):\n",
    "\n",
    "    print(f\"p : {p}\")\n",
    "\n",
    "    print(f\"q : {q}\")\n",
    "    N = p * q\n",
    "    print(f\"N : {N}\")\n",
    "    e = gen_e(N, p-1, q-1)\n",
    "    print(f\"<{e}, {N}> is the public key\")\n",
    "\n",
    "    phi = (p-1) * (q-1)\n",
    "\n",
    "    print(\"This is the private key.\")\n",
    "    d = inverse_mod_calculator(e, phi)\n",
    "    print(F\"d : {d}\")\n",
    "\n",
    "    \n",
    "    if not mode2:\n",
    "        print(f\"Plain text is : {m}\")\n",
    "        c = modulo_exponentiation_full(m, e, N)\n",
    "        print(f\"Encrypted message is {c}\")\n",
    "\n",
    "    if mode2:\n",
    "        m = modulo_exponentiation_full(c, d, N)    \n",
    "        print(f\"The decrypted message is {m}\")\n",
    "\n",
    "\n",
    "rsa(5, 7, 0, 9, True)"
   ]
  },
  {
   "cell_type": "code",
   "execution_count": 143,
   "metadata": {},
   "outputs": [],
   "source": [
    "def elgamal(g, p, x, m, r):\n",
    "\n",
    "    print(f\"g : {g}\")\n",
    "    print(f\"p : {p}\")\n",
    "    print(f\"x : {x}\")\n",
    "    print(f\"r : {r}\")\n",
    "    print(f\"m : {m}\")\n",
    "    Y = modulo_exponentiation_full(g, x, p)\n",
    "    print(f\"Public key (Y, g, p) is ({Y}, {g}, {p})\")\n",
    "\n",
    "    k = modulo_exponentiation_full(Y, r, p)\n",
    "    print(f\"k : {k}\")\n",
    "\n",
    "    c1 = modulo_exponentiation_full(g, r, p)\n",
    "    c2 = (m * k) % p\n",
    "    print(f\"(c1, c2) : ({c1}, {c2})\")\n",
    "    #Bob receives message\n",
    "    #Decryption\n",
    "    dec_k = modulo_exponentiation_full(c1, x, p)\n",
    "    k_in = inverse_mod_calculator(dec_k, p)\n",
    "\n",
    "    dec_m = (k_in * c2) % p\n",
    "    print(f\"decrypted message : {dec_m}\")\n"
   ]
  },
  {
   "cell_type": "code",
   "execution_count": 145,
   "metadata": {},
   "outputs": [
    {
     "name": "stdout",
     "output_type": "stream",
     "text": [
      "g : 7\n",
      "p : 11\n",
      "x : 3\n",
      "r : 3\n",
      "m : 7\n",
      "Public key (Y, g, p) is (2, 7, 11)\n",
      "k : 8\n",
      "(c1, c2) : (2, 1)\n",
      "decrypted message : 7\n"
     ]
    }
   ],
   "source": [
    "elgamal(7, 11, 3, 7, 3)"
   ]
  },
  {
   "cell_type": "code",
   "execution_count": 98,
   "metadata": {},
   "outputs": [
    {
     "data": {
      "text/plain": [
       "24"
      ]
     },
     "execution_count": 98,
     "metadata": {},
     "output_type": "execute_result"
    }
   ],
   "source": [
    "modulo_exponentiation_full(22, 98, 101)"
   ]
  },
  {
   "cell_type": "code",
   "execution_count": 99,
   "metadata": {},
   "outputs": [
    {
     "data": {
      "text/plain": [
       "4225"
      ]
     },
     "execution_count": 99,
     "metadata": {},
     "output_type": "execute_result"
    }
   ],
   "source": [
    "modulo_exponentiation_full(76, 5, 101)** 2"
   ]
  },
  {
   "cell_type": "code",
   "execution_count": 100,
   "metadata": {},
   "outputs": [
    {
     "data": {
      "text/plain": [
       "58"
      ]
     },
     "execution_count": 100,
     "metadata": {},
     "output_type": "execute_result"
    }
   ],
   "source": [
    "modulo_exponentiation_full(76, 4, 101)"
   ]
  },
  {
   "cell_type": "code",
   "execution_count": 102,
   "metadata": {},
   "outputs": [
    {
     "data": {
      "text/plain": [
       "5"
      ]
     },
     "execution_count": 102,
     "metadata": {},
     "output_type": "execute_result"
    }
   ],
   "source": [
    "(97 * 4225 * 58) % 101"
   ]
  },
  {
   "cell_type": "code",
   "execution_count": 107,
   "metadata": {},
   "outputs": [
    {
     "data": {
      "text/plain": [
       "5"
      ]
     },
     "execution_count": 107,
     "metadata": {},
     "output_type": "execute_result"
    }
   ],
   "source": [
    "97 * (22 ** 98) % 101"
   ]
  },
  {
   "cell_type": "code",
   "execution_count": 113,
   "metadata": {},
   "outputs": [
    {
     "data": {
      "text/plain": [
       "9"
      ]
     },
     "execution_count": 113,
     "metadata": {},
     "output_type": "execute_result"
    }
   ],
   "source": [
    "inverse_mod_calculator(5, 11)"
   ]
  },
  {
   "cell_type": "code",
   "execution_count": 128,
   "metadata": {},
   "outputs": [
    {
     "data": {
      "text/plain": [
       "9"
      ]
     },
     "execution_count": 128,
     "metadata": {},
     "output_type": "execute_result"
    }
   ],
   "source": [
    "(4 * 5) % 11"
   ]
  },
  {
   "cell_type": "code",
   "execution_count": 149,
   "metadata": {},
   "outputs": [
    {
     "name": "stdout",
     "output_type": "stream",
     "text": [
      "(c1, c2) : (9, 8)\n",
      "3\n",
      "4\n",
      "decrypted message : 10\n"
     ]
    }
   ],
   "source": [
    "c1 = 9\n",
    "c2 = 8\n",
    "print(f\"(c1, c2) : ({c1}, {c2})\")\n",
    "    #Bob receives message\n",
    "    #Decryption\n",
    "dec_k = modulo_exponentiation_full(c1, 3, 11)\n",
    "print(dec_k)\n",
    "k_in = inverse_mod_calculator(dec_k, 11)\n",
    "print(k_in)\n",
    "dec_m = (k_in * c2) % 11\n",
    "print(f\"decrypted message : {dec_m}\")"
   ]
  },
  {
   "cell_type": "code",
   "execution_count": 148,
   "metadata": {},
   "outputs": [
    {
     "data": {
      "text/plain": [
       "10"
      ]
     },
     "execution_count": 148,
     "metadata": {},
     "output_type": "execute_result"
    }
   ],
   "source": [
    "32 % 11"
   ]
  },
  {
   "cell_type": "code",
   "execution_count": null,
   "metadata": {},
   "outputs": [],
   "source": []
  }
 ],
 "metadata": {
  "interpreter": {
   "hash": "bc75da91c564413737c36d142f9ba7109c554d7e02e6688105e2cd200d273f73"
  },
  "kernelspec": {
   "display_name": "Python 3.8.5 ('base')",
   "language": "python",
   "name": "python3"
  },
  "language_info": {
   "codemirror_mode": {
    "name": "ipython",
    "version": 3
   },
   "file_extension": ".py",
   "mimetype": "text/x-python",
   "name": "python",
   "nbconvert_exporter": "python",
   "pygments_lexer": "ipython3",
   "version": "3.8.5"
  },
  "orig_nbformat": 4
 },
 "nbformat": 4,
 "nbformat_minor": 2
}
